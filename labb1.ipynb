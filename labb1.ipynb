{
 "cells": [
  {
   "cell_type": "code",
   "execution_count": null,
   "metadata": {},
   "outputs": [
    {
     "ename": "SyntaxError",
     "evalue": "invalid syntax. Perhaps you forgot a comma? (909803426.py, line 28)",
     "output_type": "error",
     "traceback": [
      "\u001b[1;36m  Cell \u001b[1;32mIn[47], line 28\u001b[1;36m\u001b[0m\n\u001b[1;33m    dct.get(\"A\", 0)\u001b[0m\n\u001b[1;37m    ^\u001b[0m\n\u001b[1;31mSyntaxError\u001b[0m\u001b[1;31m:\u001b[0m invalid syntax. Perhaps you forgot a comma?\n"
     ]
    }
   ],
   "source": [
    "from collections import Counter\n",
    "import matplotlib.pyplot as plt\n",
    "\n",
    "letters_to_count = [\"A\", \"T\", \"C\", \"G\"] # I create this to compare to the file to this list (in the if-statement)\n",
    "list_of_dictionarys = []\n",
    "\n",
    "with open(\"data/dna_raw.txt\", \"r\") as file:\n",
    "    for index, line in enumerate(file): # I recreate the file as an enumerate that can return both index and line\n",
    "        if index % 2 == 1: # We check if the index is odd/uneven, which means we'll it's one of the string of letters\n",
    "            line = line.strip().upper()\n",
    "            letter_count = {char: count for char, count in Counter(line).items() if char in letters_to_count}\n",
    "            list_of_dictionarys.append(letter_count)\n",
    "\n",
    "frequency_of_A = []\n",
    "frequency_of_T = []\n",
    "frequency_of_C = []\n",
    "frequency_of_G = []\n",
    "\n",
    "for dict in list_of_dictionarys:\n",
    "    frequency_of_A.append(dict.get('A', 0))\n",
    "    frequency_of_T.append(dict.get('T', 0))\n",
    "    frequency_of_C.append(dict.get('C', 0))\n",
    "    frequency_of_G.append(dict.get('G', 0))\n",
    "\n",
    "for i, dct in enumerate(list_of_dictionarys, start=1):\n",
    "    letters = [\"A\", \"T\", \"C\", \"G\"]\n",
    "    frequencies = [\n",
    "        dct.get(\"A\", 0),\n",
    "        dct.get(\"T\", 0),\n",
    "        dct.get(\"C\", 0),\n",
    "        dct.get(\"G\", 0)\n",
    "    ]\n",
    "\n",
    "    plt.figure()\n",
    "    plt.bar(letters, frequencies)\n",
    "    plt.title(f\"Line {i}: frequency of DNA letters\")\n",
    "    plt.xlabel(\"Which letter?\")\n",
    "    plt.ylabel(\"Frequency\")\n",
    "    plt.show()\n",
    "\n",
    "\n",
    "\n",
    "\n",
    "\n",
    "    "
   ]
  }
 ],
 "metadata": {
  "kernelspec": {
   "display_name": "Python 3",
   "language": "python",
   "name": "python3"
  },
  "language_info": {
   "codemirror_mode": {
    "name": "ipython",
    "version": 3
   },
   "file_extension": ".py",
   "mimetype": "text/x-python",
   "name": "python",
   "nbconvert_exporter": "python",
   "pygments_lexer": "ipython3",
   "version": "3.13.2"
  }
 },
 "nbformat": 4,
 "nbformat_minor": 2
}
